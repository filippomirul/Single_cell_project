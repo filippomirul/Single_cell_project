{
 "cells": [
  {
   "cell_type": "code",
   "execution_count": 1,
   "metadata": {},
   "outputs": [],
   "source": [
    "## Dependencies\n",
    "\n",
    "import scanpy as sc\n",
    "import pandas as pd\n",
    "import numpy as np\n",
    "import matplotlib.pyplot as plt\n"
   ]
  },
  {
   "cell_type": "code",
   "execution_count": 7,
   "metadata": {},
   "outputs": [
    {
     "name": "stderr",
     "output_type": "stream",
     "text": [
      "c:\\Users\\filoa\\AppData\\Local\\Programs\\Python\\Python310\\lib\\site-packages\\anndata\\__init__.py:51: FutureWarning: `anndata.read` is deprecated, use `anndata.read_h5ad` instead. `ad.read` will be removed in mid 2024.\n",
      "  warnings.warn(\n"
     ]
    },
    {
     "data": {
      "text/plain": [
       "index\n",
       "AL669831.1       0.0\n",
       "FAM87B           0.0\n",
       "LINC00115        0.0\n",
       "FAM41C           0.0\n",
       "AL645608.2       0.0\n",
       "                ... \n",
       "PANK4            0.0\n",
       "HES5             0.0\n",
       "RP3-395M20.12    1.0\n",
       "TNFRSF14         0.0\n",
       "RP3-395M20.7     0.0\n",
       "Name: cell_2, Length: 99, dtype: float32"
      ]
     },
     "execution_count": 7,
     "metadata": {},
     "output_type": "execute_result"
    }
   ],
   "source": [
    "data = sc.datasets.pbmc3k()\n",
    "data.obs_names = [f\"cell_{n:d}\" for n in range(1, data.n_obs+1)]\n",
    "data.obsm\n",
    "\n",
    "frame = data.to_df()\n",
    "frame.head(30)\n",
    "frame .iloc[1]"
   ]
  }
 ],
 "metadata": {
  "kernelspec": {
   "display_name": "Python 3",
   "language": "python",
   "name": "python3"
  },
  "language_info": {
   "codemirror_mode": {
    "name": "ipython",
    "version": 3
   },
   "file_extension": ".py",
   "mimetype": "text/x-python",
   "name": "python",
   "nbconvert_exporter": "python",
   "pygments_lexer": "ipython3",
   "version": "3.10.7"
  }
 },
 "nbformat": 4,
 "nbformat_minor": 2
}
